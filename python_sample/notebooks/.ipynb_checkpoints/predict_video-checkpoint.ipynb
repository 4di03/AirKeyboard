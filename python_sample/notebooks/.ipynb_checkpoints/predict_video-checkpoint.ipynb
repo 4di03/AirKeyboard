{
 "cells": [
  {
   "cell_type": "code",
   "execution_count": null,
   "id": "79248a84-3337-4ba6-b905-d5e5b576848e",
   "metadata": {},
   "outputs": [],
   "source": [
    "\n",
    "\n",
    "from utils.prep_utils import (\n",
    "    COLORMAP,\n",
    "    heatmaps_to_coordinates,\n",
    "    N_KEYPOINTS,\n",
    "    RAW_IMG_SIZE,\n",
    "    MODEL_IMG_SIZE,\n",
    "    show_batch_predictions,\n",
    "    DATASET_MEANS,\n",
    "    DATASET_STDS,\n",
    "    get_norm_params,\n",
    "    import_object_from_file,\n",
    "    IoULoss\n",
    "    \n",
    ")\n",
    "\n",
    "cfg_file_path = \"/scratch/palle.a/AirKeyboard/python_sample/notebooks/training_configs/hanco_mid_cnn.py\"\n",
    "\n",
    "\n",
    "model = import_object_from_file(cfg_file_path, \"model\")\n",
    "config = import_object_from_file(cfg_file_path, \"config\")\n",
    "from utils.prep_utils import (\n",
    "    COLORMAP,\n",
    "    heatmaps_to_coordinates,\n",
    "    N_KEYPOINTS,\n",
    "    RAW_IMG_SIZE,\n",
    "    MODEL_IMG_SIZE,\n",
    "    show_batch_predictions,\n",
    "    DATASET_MEANS,\n",
    "    DATASET_STDS,\n",
    "    get_norm_params,\n",
    "    import_object_from_file,\n",
    "    IoULoss\n",
    "    \n",
    ")\n",
    "\n",
    "video_path = \"/scratch/palle.a/AirKeyboard/data/videos/hand_test.mp4\"\n",
    "mp = \"\"\n",
    "\n"
   ]
  }
 ],
 "metadata": {
  "kernelspec": {
   "display_name": "Python 3",
   "language": "python",
   "name": "python3"
  },
  "language_info": {
   "codemirror_mode": {
    "name": "ipython",
    "version": 3
   },
   "file_extension": ".py",
   "mimetype": "text/x-python",
   "name": "python",
   "nbconvert_exporter": "python",
   "pygments_lexer": "ipython3",
   "version": "3.8.8"
  }
 },
 "nbformat": 4,
 "nbformat_minor": 5
}
