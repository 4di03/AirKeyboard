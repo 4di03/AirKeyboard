{
 "cells": [
  {
   "cell_type": "code",
   "execution_count": 2,
   "id": "79248a84-3337-4ba6-b905-d5e5b576848e",
   "metadata": {},
   "outputs": [
    {
     "ename": "NameError",
     "evalue": "name 'torch' is not defined",
     "output_type": "error",
     "traceback": [
      "\u001b[0;31m---------------------------------------------------------------------------\u001b[0m",
      "\u001b[0;31mNameError\u001b[0m                                 Traceback (most recent call last)",
      "\u001b[0;32m<ipython-input-2-011afe2fd59f>\u001b[0m in \u001b[0;36m<module>\u001b[0;34m\u001b[0m\n\u001b[1;32m     42\u001b[0m \u001b[0msave_loc\u001b[0m \u001b[0;34m=\u001b[0m \u001b[0mconfig\u001b[0m\u001b[0;34m[\u001b[0m\u001b[0;34m\"save_loc\"\u001b[0m\u001b[0;34m]\u001b[0m\u001b[0;34m\u001b[0m\u001b[0;34m\u001b[0m\u001b[0m\n\u001b[1;32m     43\u001b[0m model.load_state_dict(\n\u001b[0;32m---> 44\u001b[0;31m     \u001b[0mtorch\u001b[0m\u001b[0;34m.\u001b[0m\u001b[0mload\u001b[0m\u001b[0;34m(\u001b[0m\u001b[0msave_loc\u001b[0m\u001b[0;34m,\u001b[0m \u001b[0mmap_location\u001b[0m\u001b[0;34m=\u001b[0m\u001b[0mtorch\u001b[0m\u001b[0;34m.\u001b[0m\u001b[0mdevice\u001b[0m\u001b[0;34m(\u001b[0m\u001b[0mconfig\u001b[0m\u001b[0;34m[\u001b[0m\u001b[0;34m\"device\"\u001b[0m\u001b[0;34m]\u001b[0m\u001b[0;34m)\u001b[0m\u001b[0;34m)\u001b[0m\u001b[0;34m\u001b[0m\u001b[0;34m\u001b[0m\u001b[0m\n\u001b[0m\u001b[1;32m     45\u001b[0m )\n\u001b[1;32m     46\u001b[0m \u001b[0;34m\u001b[0m\u001b[0m\n",
      "\u001b[0;31mNameError\u001b[0m: name 'torch' is not defined"
     ]
    }
   ],
   "source": [
    "\n",
    "import torch\n",
    "import cv2\n",
    "import sys\n",
    "sys.path.append(\"../\")\n",
    "from utils.prep_utils import (\n",
    "    COLORMAP,\n",
    "    heatmaps_to_coordinates,\n",
    "    N_KEYPOINTS,\n",
    "    RAW_IMG_SIZE,\n",
    "    MODEL_IMG_SIZE,\n",
    "    show_batch_predictions,\n",
    "    DATASET_MEANS,\n",
    "    DATASET_STDS,\n",
    "    get_norm_params,\n",
    "    import_object_from_file,\n",
    "    IoULoss\n",
    "    \n",
    ")\n",
    "from utils.prep_utils import (\n",
    "    COLORMAP,\n",
    "    heatmaps_to_coordinates,\n",
    "    N_KEYPOINTS,\n",
    "    RAW_IMG_SIZE,\n",
    "    MODEL_IMG_SIZE,\n",
    "    show_batch_predictions,\n",
    "    DATASET_MEANS,\n",
    "    DATASET_STDS,\n",
    "    get_norm_params,\n",
    "    import_object_from_file,\n",
    "    IoULoss\n",
    "    \n",
    ")\n",
    "\n",
    "video_path = \"/scratch/palle.a/AirKeyboard/data/videos/hand_test.mp4\"\n",
    "\n",
    "\n",
    "cfg_file_path = \"/scratch/palle.a/AirKeyboard/python_sample/notebooks/training_configs/hanco_mid.py\"\n",
    "\n",
    "\n",
    "model = import_object_from_file(cfg_file_path, \"model\")\n",
    "config = import_object_from_file(cfg_file_path, \"config\")\n",
    "\n",
    "\n",
    "save_loc = config[\"save_loc\"]\n",
    "model.load_state_dict(\n",
    "    torch.load(save_loc, map_location=torch.device(config[\"device\"]))\n",
    ")\n",
    "\n",
    "\n",
    "\n",
    "\n",
    "\n"
   ]
  },
  {
   "cell_type": "code",
   "execution_count": null,
   "id": "ebc84a77-b310-4b43-b343-805260702050",
   "metadata": {},
   "outputs": [],
   "source": [
    "\n",
    "\n",
    "\n"
   ]
  }
 ],
 "metadata": {
  "kernelspec": {
   "display_name": "Python 3",
   "language": "python",
   "name": "python3"
  },
  "language_info": {
   "codemirror_mode": {
    "name": "ipython",
    "version": 3
   },
   "file_extension": ".py",
   "mimetype": "text/x-python",
   "name": "python",
   "nbconvert_exporter": "python",
   "pygments_lexer": "ipython3",
   "version": "3.8.8"
  }
 },
 "nbformat": 4,
 "nbformat_minor": 5
}
