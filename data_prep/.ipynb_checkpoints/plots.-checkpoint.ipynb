{
 "cells": [
  {
   "cell_type": "code",
   "execution_count": null,
   "id": "7d4fa027-5feb-4bc0-b371-cfe6ae405d1e",
   "metadata": {},
   "outputs": [],
   "source": [
    "import matplotlib.pyplot as plt\n",
    "import os \n",
    "\n",
    "mse_loss_path = \"/scratch/palle.a/AirKeyboard/data/analytics/model_mse_gonraga.pt_analytics\"\n",
    "\n",
    "\n",
    "tlp = os.path.join(mse_loss_path, \"train_loss.list\")\n",
    "vlp = os.path.join(mse_loss_path, \"val_loss.list\")\n",
    "\n",
    "\n",
    "\n",
    "def extract_losses(lp):\n",
    "    with open(tlp, \"r\") as f:\n",
    "        losses = list(map(float(f.read().split(\"\\n\"))))\n",
    "        \n",
    "        return losses\n",
    "train_losses= extract_losses(tlp)\n",
    "val_losses= extract_losses(vlp)\n",
    "n_epochs = len(train_losses)\n",
    "\n",
    "\n",
    "\n",
    "plt.plot(epochs,train_loss, label = \"Train Loss\")\n",
    "plt.plot(epochs,val_loss, label = \"Val Loss\")\n",
    "plt.xlabel(\"Epoch #\")\n",
    "plt.ylabel(\"1 - IOU\")\n",
    "plt.title(\"Training Loss Curve\")\n",
    "plt.legend()\n",
    "plt.show()\n"
   ]
  },
  {
   "cell_type": "code",
   "execution_count": null,
   "id": "652ab9b9-3424-42ae-8531-600633f4f609",
   "metadata": {},
   "outputs": [],
   "source": []
  }
 ],
 "metadata": {
  "kernelspec": {
   "display_name": "Python 3 (ipykernel)",
   "language": "python",
   "name": "python3"
  },
  "language_info": {
   "codemirror_mode": {
    "name": "ipython",
    "version": 3
   },
   "file_extension": ".py",
   "mimetype": "text/x-python",
   "name": "python",
   "nbconvert_exporter": "python",
   "pygments_lexer": "ipython3",
   "version": "3.9.12"
  }
 },
 "nbformat": 4,
 "nbformat_minor": 5
}
